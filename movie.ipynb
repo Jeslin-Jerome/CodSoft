{
 "cells": [
  {
   "cell_type": "code",
   "execution_count": null,
   "metadata": {},
   "outputs": [],
   "source": [
    "import pandas as pd\n",
    "import numpy as np\n",
    "from sklearn.feature_extraction.text import TfidfVectorizer\n",
    "from sklearn.multioutput import MultiOutputClassifier\n",
    "from sklearn.naive_bayes import MultinomialNB\n",
    "from sklearn.preprocessing import MultiLabelBinarizer\n",
    "from sklearn.metrics import accuracy_score, precision_score, recall_score, f1_score\n",
    "from tqdm import tqdm\n"
   ]
  },
  {
   "cell_type": "code",
   "execution_count": null,
   "metadata": {},
   "outputs": [],
   "source": [
    "\n",
    "genre_list = [ 'action', 'adult', 'adventure', 'animation', 'biography', 'comedy', 'crime', 'documentry', 'family', 'fantasy', 'game-show', 'history', 'horror', 'music', 'mystery', 'news', 'reality-tv', 'romance', 'sci-fi', 'short', 'sport', 'talk-show', 'thriller', 'war', 'western']\n"
   ]
  },
  {
   "cell_type": "code",
   "execution_count": null,
   "metadata": {},
   "outputs": [],
   "source": [
    "\n",
    "fallback_genre = 'Unknown'\n"
   ]
  },
  {
   "cell_type": "code",
   "execution_count": null,
   "metadata": {},
   "outputs": [],
   "source": [
    "\n",
    "try:\n",
    "    with tqdm(total=50, desc='Loading Train Data') as pbar:\n",
    "        train_data = pd.read_csv('train_data.txt', sep=':::', header=None, names=['SerialNumber', 'MOVIE_NAME', 'GENRE', 'MOVIE_PLOT'], engine='python')\n",
    "        pbar.update(50)\n",
    "except Exception as e:\n",
    "    print(f\"Error loading train_data: {e}\")\n"
   ]
  },
  {
   "cell_type": "code",
   "execution_count": null,
   "metadata": {},
   "outputs": [],
   "source": [
    "\n",
    "X_train = train_data['MOVIE_PLOT'].astype(str).apply(lambda doc: doc.lower())\n",
    "genre_labels = [genre.split(', ') for genre in train_data['GENRE']]\n",
    "mlb = MultiLabelBinarizer()\n",
    "y_train = mlb.fit_transform(genre_labels)\n"
   ]
  },
  {
   "cell_type": "code",
   "execution_count": null,
   "metadata": {},
   "outputs": [],
   "source": [
    "\n",
    "\n",
    "Tfidf_vectorizer = TfidfVectorizer(max_features=5000)\n"
   ]
  },
  {
   "cell_type": "code",
   "execution_count": null,
   "metadata": {},
   "outputs": [],
   "source": [
    "\n",
    "with tqdm(total=50, desc=\"Vectorizing Training Data\") as pbar:\n",
    "    X_train_tfidf = Tfidf_vectorizer.fit_transform(X_train)\n",
    "    pbar.update(50)\n"
   ]
  },
  {
   "cell_type": "code",
   "execution_count": null,
   "metadata": {},
   "outputs": [],
   "source": [
    "\n",
    "with tqdm(total=50, desc=\"Training Model\") as pbar:\n",
    "    naive_bayes = MultinomialNB()\n",
    "    multi_output_classifier = MultiOutputClassifier(naive_bayes)\n",
    "    multi_output_classifier.fit(X_train_tfidf, y_train)\n",
    "    pbar.update(50)\n"
   ]
  },
  {
   "cell_type": "code",
   "execution_count": null,
   "metadata": {},
   "outputs": [],
   "source": [
    "\n",
    "try:\n",
    "    with tqdm(total=50, desc=\"Loading Test Data\") as pbar:\n",
    "        test_data = pd.read_csv('test_data.txt', sep=':::', header=None, names=['SerialNumber', 'MOVIE_NAME', 'MOVIE_PLOT'], engine='python')\n",
    "        pbar.update(50)\n",
    "except Exception as e:\n",
    "    print(f\"Error loading test_data: {e}\")\n",
    "    raise\n"
   ]
  },
  {
   "cell_type": "code",
   "execution_count": null,
   "metadata": {},
   "outputs": [],
   "source": [
    "\n",
    "X_test = test_data['MOVIE_PLOT'].astype(str).apply(lambda doc: doc.lower())\n"
   ]
  },
  {
   "cell_type": "code",
   "execution_count": null,
   "metadata": {},
   "outputs": [],
   "source": [
    "\n",
    "with tqdm(total=50, desc=\"Vectorizing Test Data\") as pbar:\n",
    "    y_pred = multi_output_classifier.predict(X_test_tfidf)\n",
    "    pbar.update(50)\n"
   ]
  },
  {
   "cell_type": "code",
   "execution_count": null,
   "metadata": {},
   "outputs": [],
   "source": [
    "\n",
    "with tqdm(total=50, desc=\"Predicting on Test Data\") as pbar:\n",
    "    y_pred = multi_output_classifier.predict(X_test_tfidf)\n",
    "    pbar.update(50)\n"
   ]
  },
  {
   "cell_type": "code",
   "execution_count": null,
   "metadata": {},
   "outputs": [],
   "source": [
    "\n",
    "test_movie_names = test_data['MOVIE_NAME']\n",
    "predicted_genres = mlb.inverse_transform(y_pred)\n",
    "test_results = pd.DataFrame({'MOVIE_NAME': test_movie_names, 'PREDICTED_GENRES': predicted_genres})\n"
   ]
  },
  {
   "cell_type": "code",
   "execution_count": null,
   "metadata": {},
   "outputs": [],
   "source": [
    "\n",
    "test_results['PREDICTED_GENRES'] = test_results['PREDICTED_GENRES'].apply(lambda genres: [fallback_genre] if len(genres) == 0 else genres)\n"
   ]
  },
  {
   "cell_type": "code",
   "execution_count": null,
   "metadata": {},
   "outputs": [],
   "source": [
    "\n",
    "with open(\"model_evaluation.txt\", \"w\", encoding=\"utf-8\") as output_file:\n",
    "    for _, row in test_results.iterrows():\n",
    "        movie_name = row['MOVIE_NAME']\n",
    "        genre_str = ', '.join(row['PREDICTED_GENRES'])\n",
    "        output_file.write(f\"{movie_name} ::: {genre_str}\\n\")\n"
   ]
  },
  {
   "cell_type": "code",
   "execution_count": null,
   "metadata": {},
   "outputs": [],
   "source": [
    "\n",
    "y_train_pred = multi_output_classifier.predict(X_train_tfidf)\n"
   ]
  },
  {
   "cell_type": "code",
   "execution_count": null,
   "metadata": {},
   "outputs": [],
   "source": [
    "\n",
    "accuracy = accuracy_score(y_train, y_train_pred)\n",
    "precision = precision_score(y_train, y_train_pred, average='micro')\n",
    "recall = recall_score(y_train, y_train_pred, average='micro')\n",
    "f1 = f1_score(y_train, y_train_pred, average='micro')\n"
   ]
  },
  {
   "cell_type": "code",
   "execution_count": null,
   "metadata": {},
   "outputs": [],
   "source": [
    "\n",
    "with open(\"model evaluation.txt\", \"a\", encoding=\"utf-8\") as output_file:\n",
    "    output_file.write(\"\\n\\nModel Evaluation Metrics:\\n\")\n",
    "    output_file.write(f\"Accuracy: {accuracy * 100:.2f}\\n\")\n",
    "    output_file.write(f\"Precision: {precision:.2f}\\n\")\n",
    "    output_file.write(f\"Recall: {recall:.2f}\\n\")\n",
    "    output_file.write(f\"F1-score: {f1:.2f}\\n\")\n"
   ]
  },
  {
   "cell_type": "code",
   "execution_count": null,
   "metadata": {},
   "outputs": [],
   "source": [
    "\n",
    "print(\"Model evaluation results and metrics have been saved to 'model_evaluation.txt'.\")"
   ]
  },
  {
   "cell_type": "code",
   "execution_count": null,
   "metadata": {},
   "outputs": [],
   "source": []
  }
 ],
 "metadata": {
  "language_info": {
   "name": "python"
  }
 },
 "nbformat": 4,
 "nbformat_minor": 2
}
